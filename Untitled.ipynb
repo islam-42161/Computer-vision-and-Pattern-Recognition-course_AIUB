{
 "cells": [
  {
   "cell_type": "code",
   "execution_count": 4,
   "id": "4c7d039d",
   "metadata": {},
   "outputs": [],
   "source": [
    "import matplotlib.pyplot as plt\n",
    "import random\n",
    "import math"
   ]
  },
  {
   "cell_type": "code",
   "execution_count": 5,
   "id": "52424b38",
   "metadata": {},
   "outputs": [],
   "source": [
    "input_x1 = [0,0,1,1]\n",
    "input_x2 = [0,1,0,1]\n",
    "output_y = [0,0,0,1]"
   ]
  },
  {
   "cell_type": "code",
   "execution_count": 6,
   "id": "700c3d78",
   "metadata": {},
   "outputs": [
    {
     "data": {
      "image/png": "[encoded data removed]",
      "text/plain": [
       "<Figure size 432x288 with 1 Axes>"
      ]
     },
     "metadata": {
      "needs_background": "light"
     },
     "output_type": "display_data"
    }
   ],
   "source": [
    "plt.figure()\n",
    "for n in range(4):\n",
    "    if output_y[n] == 0:\n",
    "        plt.plot(input_x1[n],input_x2[n],'ro')\n",
    "    else:\n",
    "        plt.plot(input_x1[n],input_x2[n],'go')\n",
    "plt.show()"
   ]
  },
  {
   "cell_type": "code",
   "execution_count": 7,
   "id": "41eab526",
   "metadata": {},
   "outputs": [
    {
     "name": "stdout",
     "output_type": "stream",
     "text": [
      "[0.22793964935883515, 0.43044985048816] 0.3931225069497094\n"
     ]
    }
   ],
   "source": [
    "edge_W = [random.random(),random.random()]\n",
    "bias_b = random.random()\n",
    "print(edge_W,bias_b)"
   ]
  },
  {
   "cell_type": "code",
   "execution_count": 8,
   "id": "d1a039d0",
   "metadata": {},
   "outputs": [],
   "source": [
    "learning_rate = 1\n",
    "threshold_theta = 0.5"
   ]
  },
  {
   "cell_type": "code",
   "execution_count": 9,
   "id": "d6e6a05b",
   "metadata": {},
   "outputs": [
    {
     "name": "stdout",
     "output_type": "stream",
     "text": [
      "Epoch: 0\n",
      "[0, 0] = 0\n",
      "[0, 1] = 1\n",
      "[0, 0] = 0\n",
      "[0, 1] = 0\n",
      "Epoch: 1\n",
      "[0, 0] = 0\n",
      "[0, 1] = 1\n",
      "[0, 0] = 1\n",
      "[0, 1] = 0\n",
      "Epoch: 2\n",
      "[0, 0] = 0\n",
      "[0, 1] = 0\n",
      "[0, 0] = 1\n",
      "[0, 1] = 0\n",
      "Epoch: 3\n",
      "[0, 0] = 0\n",
      "[0, 1] = 1\n",
      "[0, 0] = 0\n",
      "[0, 1] = 0\n",
      "Epoch: 4\n",
      "[0, 0] = 0\n",
      "[0, 1] = 1\n",
      "[0, 0] = 1\n",
      "[0, 1] = 0\n",
      "Epoch: 5\n",
      "[0, 0] = 0\n",
      "[0, 1] = 0\n",
      "[0, 0] = 1\n",
      "[0, 1] = 0\n",
      "Epoch: 6\n",
      "[0, 0] = 0\n",
      "[0, 1] = 1\n",
      "[0, 0] = 0\n",
      "[0, 1] = 1\n",
      "Epoch: 7\n",
      "[0, 0] = 0\n",
      "[0, 1] = 0\n",
      "[0, 0] = 0\n",
      "[0, 1] = 1\n"
     ]
    }
   ],
   "source": [
    "count = 0\n",
    "epoch = 0\n",
    "while count < 4:   \n",
    "    print(f\"Epoch: {epoch}\")\n",
    "    for i in range(len(output_y)):\n",
    "        weighted_sum = (edge_W[0]*input_x1[i] + edge_W[1]*input_x2[i]) + bias_b\n",
    "        prediction = 0\n",
    "        if weighted_sum > threshold_theta:\n",
    "            prediction = 1\n",
    "        error = output_y[i] - prediction\n",
    "        if error != 0:\n",
    "            count = 0\n",
    "            edge_W[0] += error*input_x1[i] *learning_rate\n",
    "            edge_W[1] += error*input_x2[i] *learning_rate\n",
    "            bias_b += error * learning_rate\n",
    "        else:\n",
    "            count += 1\n",
    "        print(f\"[{input_x1[1]}, {input_x2[i]}] = {prediction}\")\n",
    "    epoch+=1"
   ]
  },
  {
   "cell_type": "code",
   "execution_count": null,
   "id": "cc69eea4",
   "metadata": {},
   "outputs": [],
   "source": []
  }
 ],
 "metadata": {
  "kernelspec": {
   "display_name": "Python 3",
   "language": "python",
   "name": "python3"
  },
  "language_info": {
   "codemirror_mode": {
    "name": "ipython",
    "version": 3
   },
   "file_extension": ".py",
   "mimetype": "text/x-python",
   "name": "python",
   "nbconvert_exporter": "python",
   "pygments_lexer": "ipython3",
   "version": "3.8.8"
  }
 },
 "nbformat": 4,
 "nbformat_minor": 5
}
